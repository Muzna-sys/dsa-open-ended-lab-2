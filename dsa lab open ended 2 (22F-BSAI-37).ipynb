{
 "cells": [
  {
   "cell_type": "code",
   "execution_count": 12,
   "metadata": {},
   "outputs": [
    {
     "name": "stdout",
     "output_type": "stream",
     "text": [
      "False\n",
      "False\n",
      "True\n"
     ]
    }
   ],
   "source": [
    "\n",
    "\n",
    "#MUZNA SIDDIQUI\n",
    "#22F-BSAI-37\n",
    "#OPEN ENDED LAB 2 DSA\n",
    "\n",
    "\n",
    "#CODE:\n",
    "\n",
    "def matchPattern(p: str, t: str) -> bool:\n",
    "    \n",
    "    elements = t.split()\n",
    "\n",
    "    # If the lengths of p and elements don't match, it's an automatic mismatch\n",
    "    if len(p) != len(elements):\n",
    "        return False\n",
    "    \n",
    "    # create dictionaries to store the mappings\n",
    "    forward_map = {}\n",
    "    reverse_map = {}\n",
    "\n",
    "    # make a loop over the pattern and words\n",
    "    for char, word in zip(p, elements):\n",
    "\n",
    "        # Check if the current character already has a corresponding word\n",
    "        if char in forward_map:\n",
    "            if forward_map[char] != word:  # found mismatch\n",
    "                return False\n",
    "        else:\n",
    "            forward_map[char] = word \n",
    "\n",
    "        # analyze if the word already has a corresponding pattern character\n",
    "        if word in reverse_map:\n",
    "            if reverse_map[word] != char: \n",
    "                return False\n",
    "        else:\n",
    "            reverse_map[word] = char  \n",
    "\n",
    "    \n",
    "    return True\n",
    "\n",
    "# check\n",
    "print(matchPattern(\"baba\", \"dog cat cat dog\"))  \n",
    "print(matchPattern(\"mama\", \"duck bear bear fish\"))  \n",
    "print(matchPattern(\"abba\", \"dog cat cat dog\"))\n"
   ]
  }
 ],
 "metadata": {
  "kernelspec": {
   "display_name": "Python 3",
   "language": "python",
   "name": "python3"
  },
  "language_info": {
   "codemirror_mode": {
    "name": "ipython",
    "version": 3
   },
   "file_extension": ".py",
   "mimetype": "text/x-python",
   "name": "python",
   "nbconvert_exporter": "python",
   "pygments_lexer": "ipython3",
   "version": "3.13.1"
  }
 },
 "nbformat": 4,
 "nbformat_minor": 2
}
